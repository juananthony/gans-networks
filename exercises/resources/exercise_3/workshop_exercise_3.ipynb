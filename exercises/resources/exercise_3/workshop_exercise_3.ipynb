{
  "nbformat": 4,
  "nbformat_minor": 0,
  "metadata": {
    "colab": {
      "name": "workshop_exercise_3.ipynb",
      "provenance": [],
      "collapsed_sections": []
    },
    "kernelspec": {
      "name": "python3",
      "display_name": "Python 3"
    },
    "accelerator": "GPU"
  },
  "cells": [
    {
      "cell_type": "markdown",
      "metadata": {
        "id": "v1XV_xUbZR_r",
        "colab_type": "text"
      },
      "source": [
        "Paso 1 - Instalando paquetes en Notebooks\n",
        "\n"
      ]
    },
    {
      "cell_type": "code",
      "metadata": {
        "id": "bBzvq-EYrz9T",
        "colab_type": "code",
        "colab": {}
      },
      "source": [
        ""
      ],
      "execution_count": null,
      "outputs": []
    },
    {
      "cell_type": "markdown",
      "metadata": {
        "id": "ODC2K6_9r2rK",
        "colab_type": "text"
      },
      "source": [
        "Paso 2 - Iniciando TensorBoard"
      ]
    },
    {
      "cell_type": "code",
      "metadata": {
        "id": "y9gG5Hd8uKME",
        "colab_type": "code",
        "colab": {}
      },
      "source": [
        ""
      ],
      "execution_count": null,
      "outputs": []
    },
    {
      "cell_type": "markdown",
      "metadata": {
        "id": "JFlJRt6dZWEK",
        "colab_type": "text"
      },
      "source": [
        "Paso 3 - Importando Paquetes"
      ]
    },
    {
      "cell_type": "code",
      "metadata": {
        "id": "kobbP1saZaia",
        "colab_type": "code",
        "colab": {}
      },
      "source": [
        ""
      ],
      "execution_count": null,
      "outputs": []
    },
    {
      "cell_type": "markdown",
      "metadata": {
        "id": "AhN_cFZCaseG",
        "colab_type": "text"
      },
      "source": [
        "Paso 4 - Definición de variable globales"
      ]
    },
    {
      "cell_type": "code",
      "metadata": {
        "id": "QSSkwpkDayLd",
        "colab_type": "code",
        "colab": {}
      },
      "source": [
        ""
      ],
      "execution_count": null,
      "outputs": []
    },
    {
      "cell_type": "markdown",
      "metadata": {
        "id": "r8oC0wBpZsoQ",
        "colab_type": "text"
      },
      "source": [
        "Paso 5 - Carga de los datos"
      ]
    },
    {
      "cell_type": "code",
      "metadata": {
        "id": "aJ2ruFguZvkJ",
        "colab_type": "code",
        "colab": {}
      },
      "source": [
        ""
      ],
      "execution_count": null,
      "outputs": []
    },
    {
      "cell_type": "markdown",
      "metadata": {
        "id": "u3OJN8ofcFXx",
        "colab_type": "text"
      },
      "source": [
        "Paso 6: Creación del modelo generador (Generator)"
      ]
    },
    {
      "cell_type": "code",
      "metadata": {
        "id": "u6d2JgY_cRQJ",
        "colab_type": "code",
        "colab": {}
      },
      "source": [
        ""
      ],
      "execution_count": null,
      "outputs": []
    },
    {
      "cell_type": "markdown",
      "metadata": {
        "id": "Kt1bqpiw80cg",
        "colab_type": "text"
      },
      "source": [
        "Paso 7: Creación del modelo discriminador (Discriminator)"
      ]
    },
    {
      "cell_type": "code",
      "metadata": {
        "id": "iJz8qEkk9P7y",
        "colab_type": "code",
        "colab": {}
      },
      "source": [
        ""
      ],
      "execution_count": null,
      "outputs": []
    },
    {
      "cell_type": "markdown",
      "metadata": {
        "id": "TDGElH3W9wD5",
        "colab_type": "text"
      },
      "source": [
        "Paso 8 - Definición de la clase Model"
      ]
    },
    {
      "cell_type": "code",
      "metadata": {
        "id": "wN7ZkSX793sm",
        "colab_type": "code",
        "colab": {}
      },
      "source": [
        ""
      ],
      "execution_count": null,
      "outputs": []
    },
    {
      "cell_type": "markdown",
      "metadata": {
        "id": "8UWM4JFk-CAm",
        "colab_type": "text"
      },
      "source": [
        "Paso 9 - Definición de la función de generación de ejemplos y entrenamiento\n",
        "\n"
      ]
    },
    {
      "cell_type": "code",
      "metadata": {
        "id": "LjwWVHdO_qvY",
        "colab_type": "code",
        "colab": {}
      },
      "source": [
        ""
      ],
      "execution_count": null,
      "outputs": []
    },
    {
      "cell_type": "markdown",
      "metadata": {
        "id": "ASsLYaYfsoMQ",
        "colab_type": "text"
      },
      "source": [
        "Paso 10 - Visualización y test del proceso de entrenamiento"
      ]
    },
    {
      "cell_type": "code",
      "metadata": {
        "id": "_uln93pqIvks",
        "colab_type": "code",
        "colab": {}
      },
      "source": [
        ""
      ],
      "execution_count": null,
      "outputs": []
    },
    {
      "cell_type": "markdown",
      "metadata": {
        "id": "8RuFumGOswvU",
        "colab_type": "text"
      },
      "source": [
        "Paso 11 - Definición de bucle de entrenamiento (Función)"
      ]
    },
    {
      "cell_type": "code",
      "metadata": {
        "id": "HSS-dyRyDyaB",
        "colab_type": "code",
        "colab": {}
      },
      "source": [
        ""
      ],
      "execution_count": null,
      "outputs": []
    },
    {
      "cell_type": "markdown",
      "metadata": {
        "id": "ckdHnLuXswEW",
        "colab_type": "text"
      },
      "source": [
        "Paso 12 - Ejecución del proceso de entrenamiento"
      ]
    },
    {
      "cell_type": "code",
      "metadata": {
        "id": "ZQPNNPPyuHI9",
        "colab_type": "code",
        "colab": {}
      },
      "source": [
        ""
      ],
      "execution_count": null,
      "outputs": []
    },
    {
      "cell_type": "markdown",
      "metadata": {
        "id": "3Xc1wZRLtAyA",
        "colab_type": "text"
      },
      "source": [
        "Paso 13 - Visualización de los resultados"
      ]
    },
    {
      "cell_type": "code",
      "metadata": {
        "id": "8C04jR-juGHP",
        "colab_type": "code",
        "colab": {}
      },
      "source": [
        ""
      ],
      "execution_count": null,
      "outputs": []
    },
    {
      "cell_type": "markdown",
      "metadata": {
        "id": "PdVapxtBtCGe",
        "colab_type": "text"
      },
      "source": [
        "Paso 14: Puesta en funcionamiento de la RGA"
      ]
    },
    {
      "cell_type": "code",
      "metadata": {
        "id": "7ZvPd0uttAM7",
        "colab_type": "code",
        "colab": {}
      },
      "source": [
        ""
      ],
      "execution_count": null,
      "outputs": []
    },
    {
      "cell_type": "code",
      "metadata": {
        "id": "5flHnl9HuIQM",
        "colab_type": "code",
        "colab": {}
      },
      "source": [
        ""
      ],
      "execution_count": null,
      "outputs": []
    }
  ]
}